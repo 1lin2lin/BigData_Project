{
 "cells": [
  {
   "cell_type": "code",
   "execution_count": null,
   "id": "d73d49e3",
   "metadata": {},
   "outputs": [],
   "source": [
    "\"\"\"\n",
    "Joinability Analysis using MinHash and Locality Sensitive Hashing (LSH)\n",
    "\n",
    "This notebook demonstrates the use of MinHash and LSH for identifying joinable columns across multiple datasets. \n",
    "The analysis is performed on a collection of CSV files stored in the './somervillema' directory.\n",
    "\n",
    "Overview of the Process:\n",
    "1. Read each CSV file in the specified directory.\n",
    "2. For each column in these CSV files, create a MinHash signature. \n",
    "3. Insert these MinHash signatures into an LSH index.\n",
    "4. Perform a query using a specific column's MinHash to find similar columns in the collection of datasets.\n",
    "5. Display the results, showing which columns from different datasets are potentially joinable with the query column.\n",
    "\n",
    "Functions:\n",
    "- create_minhash(column): Generates a MinHash signature for a given column from a DataFrame.\n",
    "\n",
    "Key Variables:\n",
    "- lsh: An instance of MinHashLSH, used for indexing MinHash signatures.\n",
    "- minhashes: A dictionary that stores the MinHash signatures of each column.\n",
    "- query_key: A tuple representing the dataset and column name used for querying the LSH index.\n",
    "\n",
    "Query Execution:\n",
    "- The query is executed for the 'Year' column in the '3ms3-ngki.csv' dataset.\n",
    "- The LSH index is queried to find columns similar to this 'Year' column.\n",
    "- Results are filtered to exclude the query column itself and then printed.\n",
    "\n",
    "Note: The script handles EmptyDataError to skip over any CSV files that are empty or unreadable.\n",
    "\"\"\""
   ]
  },
  {
   "cell_type": "code",
   "execution_count": 59,
   "id": "ede3fe12",
   "metadata": {},
   "outputs": [],
   "source": [
    "import pandas as pd\n",
    "from datasketch import MinHash, MinHashLSH\n",
    "import os"
   ]
  },
  {
   "cell_type": "code",
   "execution_count": 60,
   "id": "1dcba5e7",
   "metadata": {},
   "outputs": [],
   "source": [
    "def create_minhash(column):\n",
    "    m = MinHash()\n",
    "    for val in column:\n",
    "        m.update(str(val).encode('utf8'))\n",
    "    return m"
   ]
  },
  {
   "cell_type": "code",
   "execution_count": 75,
   "id": "004143f1",
   "metadata": {},
   "outputs": [],
   "source": [
    "lsh = MinHashLSH(threshold=0.1, num_perm=128)\n",
    "minhashes={}\n",
    "for filename in os.listdir('./somervillema'):\n",
    "    if filename.endswith('.csv'):\n",
    "        try:\n",
    "            df = pd.read_csv(f'./somervillema/{filename}',header=0,dtype=str)\n",
    "        except pd.errors.EmptyDataError:\n",
    "            continue\n",
    "        for column in df.columns:\n",
    "            mh = create_minhash(df[column])\n",
    "            minhashes[(filename,column)] = mh\n",
    "            lsh.insert(f\"{filename}_{column}\",mh)\n"
   ]
  },
  {
   "cell_type": "code",
   "execution_count": 82,
   "id": "fd1ce1c2",
   "metadata": {},
   "outputs": [
    {
     "name": "stdout",
     "output_type": "stream",
     "text": [
      "Columns similar to ('3ms3-ngki.csv', 'Year'):\n",
      "6j4n-batb.csv_Year\n",
      "qu9x-4xq5.csv_Year\n",
      "3qxw-3aiy.csv_mmwr_year\n",
      "bi8e-5vw8.csv_Year\n"
     ]
    }
   ],
   "source": [
    "query_key = ('3ms3-ngki.csv', 'Year')\n",
    "\n",
    "if query_key in minhashes:\n",
    "    # Query the LSH for similar columns\n",
    "    result = lsh.query(minhashes[query_key])\n",
    "\n",
    "    # Filter out the query_key itself from the results\n",
    "    filtered_result = [r for r in result if r != f\"{query_key[0]}_{query_key[1]}\"]\n",
    "\n",
    "    # Print results\n",
    "    print(f\"Columns similar to {query_key}:\")\n",
    "    for res in filtered_result:\n",
    "        print(res)\n",
    "else:\n",
    "    print(f\"No MinHash found for {query_key}\")"
   ]
  },
  {
   "cell_type": "code",
   "execution_count": 79,
   "id": "abf3ffe2",
   "metadata": {},
   "outputs": [],
   "source": [
    "# for key in minhashes:\n",
    "#     print(key,minhashes[key])"
   ]
  },
  {
   "cell_type": "code",
   "execution_count": 83,
   "id": "400a6958",
   "metadata": {},
   "outputs": [
    {
     "name": "stdout",
     "output_type": "stream",
     "text": [
      "Columns similar to ('3ms3-ngki.csv', 'Latitude'):\n",
      "6j4n-batb.csv_Latitude\n"
     ]
    }
   ],
   "source": [
    "query_key = ('3ms3-ngki.csv', 'Latitude')\n",
    "# Check if the query key exists in the minhashes dictionary\n",
    "if query_key in minhashes:\n",
    "    # Query the LSH for similar columns\n",
    "    result = lsh.query(minhashes[query_key])\n",
    "\n",
    "    # Filter out the query_key itself from the results\n",
    "    filtered_result = [r for r in result if r != f\"{query_key[0]}_{query_key[1]}\"]\n",
    "\n",
    "    # Print results\n",
    "    print(f\"Columns similar to {query_key}:\")\n",
    "    for res in filtered_result:\n",
    "        print(res)\n",
    "else:\n",
    "    print(f\"No MinHash found for {query_key}\")"
   ]
  },
  {
   "cell_type": "code",
   "execution_count": null,
   "id": "7f672e3e",
   "metadata": {},
   "outputs": [],
   "source": []
  },
  {
   "cell_type": "code",
   "execution_count": null,
   "id": "93e9e668",
   "metadata": {},
   "outputs": [],
   "source": []
  },
  {
   "cell_type": "code",
   "execution_count": null,
   "id": "e4ea46bc",
   "metadata": {},
   "outputs": [],
   "source": []
  },
  {
   "cell_type": "code",
   "execution_count": null,
   "id": "83fd4c38",
   "metadata": {},
   "outputs": [],
   "source": []
  }
 ],
 "metadata": {
  "kernelspec": {
   "display_name": "Python 3 (ipykernel)",
   "language": "python",
   "name": "python3"
  },
  "language_info": {
   "codemirror_mode": {
    "name": "ipython",
    "version": 3
   },
   "file_extension": ".py",
   "mimetype": "text/x-python",
   "name": "python",
   "nbconvert_exporter": "python",
   "pygments_lexer": "ipython3",
   "version": "3.10.9"
  }
 },
 "nbformat": 4,
 "nbformat_minor": 5
}
